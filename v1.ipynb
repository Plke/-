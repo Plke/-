{
 "cells": [
  {
   "cell_type": "code",
   "execution_count": 1,
   "metadata": {},
   "outputs": [],
   "source": [
    "import requests\n",
    "from bs4 import BeautifulSoup,Comment\n",
    "import os\n",
    "# 发送 HTTP 请求\n",
    "#源网站为 https://www.biquzw.info/\n",
    "root_url = \"https://www.biquzw.info/91_91379/\"  # 小说目录url\n",
    "response = requests.get(root_url)\n",
    "\n",
    "# 解析 HTML 内容\n",
    "soup = BeautifulSoup(response.content, \"html.parser\", from_encoding=\"utf-8\")\n",
    "target_element = soup.find('div', class_='box_con').find('div', id='maininfo').find('div', id='info').find('h1')\n",
    "book=str(target_element)[4:-5]\n",
    "\n",
    "# if  os.path.exists(book)!=1:\n",
    "#     os.mkdir(book)   "
   ]
  },
  {
   "cell_type": "code",
   "execution_count": 2,
   "metadata": {},
   "outputs": [],
   "source": [
    "elements = soup.find_all(class_=\"box_con\")\n",
    "\n",
    "for element in elements:\n",
    "\n",
    "    # # 输出提取的文本内容\n",
    "    # print(text_content)\n",
    "    list_elements = element.find(id=\"list\")\n",
    "    if list_elements!=None:\n",
    "        links = list_elements.find_all(\"a\")\n",
    "\n",
    "urls=[]\n",
    "titles=[]\n",
    "for link in links:\n",
    "    urls.append( link.get(\"href\"))\n",
    "    titles.append( link.get(\"title\"))\n"
   ]
  },
  {
   "cell_type": "code",
   "execution_count": 30,
   "metadata": {},
   "outputs": [],
   "source": [
    "with open('./{}.txt'.format(book),'w',encoding='utf-8') as f:\n",
    "    for url,title in zip(urls,titles):\n",
    "        response = requests.get(root_url+url)\n",
    "        soup = BeautifulSoup(response.content, \"html.parser\", from_encoding=\"utf-8\")\n",
    "        content  = soup.find(id=\"content\")\n",
    "\n",
    "        # print(content)\n",
    "        text=str(content)\n",
    "        text=text[29:]\n",
    "        text=text[:-18]\n",
    "        text = text.replace('<br/><br/>', '\\n')\n",
    "        temp=text[0:4]\n",
    "        text = text.replace(temp, '\\t')\n",
    "        # print(title+'\\n'+text+'\\n')\n",
    "        \n",
    "        # print(temp)\n",
    "        # break\n",
    "        f.write(title+'\\n'+text+'\\n')\n",
    "        # f.write(text+'\\n\\n')\n",
    "\n"
   ]
  }
 ],
 "metadata": {
  "kernelspec": {
   "display_name": "Python 3",
   "language": "python",
   "name": "python3"
  },
  "language_info": {
   "codemirror_mode": {
    "name": "ipython",
    "version": 3
   },
   "file_extension": ".py",
   "mimetype": "text/x-python",
   "name": "python",
   "nbconvert_exporter": "python",
   "pygments_lexer": "ipython3",
   "version": "3.7.3"
  },
  "orig_nbformat": 4
 },
 "nbformat": 4,
 "nbformat_minor": 2
}
